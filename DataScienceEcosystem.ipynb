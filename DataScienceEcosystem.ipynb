{
 "cells": [
  {
   "cell_type": "markdown",
   "id": "bc284110-1d5f-4be5-a0ba-12d6d2b8db49",
   "metadata": {},
   "source": [
    "# Data Science Tools and Ecosystem\n",
    "# H1: Data Science Tools and Ecosystem"
   ]
  },
  {
   "cell_type": "code",
   "execution_count": null,
   "id": "2489e7d7-ffc8-4549-9fef-f8d486244d50",
   "metadata": {},
   "outputs": [],
   "source": [
    "\n"
   ]
  },
  {
   "cell_type": "code",
   "execution_count": null,
   "id": "408c2cc6-26e6-4df9-8998-489a2342adf7",
   "metadata": {},
   "outputs": [],
   "source": []
  },
  {
   "cell_type": "markdown",
   "id": "c9b6c470-bbeb-41ba-950e-1910d0bf80d5",
   "metadata": {},
   "source": [
    "# In this notebook, Data Science Tools and Ecosystem are summarized "
   ]
  },
  {
   "cell_type": "code",
   "execution_count": null,
   "id": "c442f6a4-616a-4a49-a0e5-a14a8336ceb4",
   "metadata": {},
   "outputs": [],
   "source": []
  },
  {
   "cell_type": "code",
   "execution_count": null,
   "id": "5f6dec3e-a747-4d16-9201-5b24c31136f8",
   "metadata": {},
   "outputs": [],
   "source": []
  },
  {
   "cell_type": "code",
   "execution_count": null,
   "id": "58aaef36-f06d-4cab-ab86-a28ee19a87ed",
   "metadata": {},
   "outputs": [],
   "source": []
  },
  {
   "cell_type": "markdown",
   "id": "4d837e29-ed3d-4eb3-af07-a8bea33e48a0",
   "metadata": {},
   "source": [
    "# Some of the popular languages that Data Scientists use are:"
   ]
  },
  {
   "cell_type": "code",
   "execution_count": 14,
   "id": "173af4dc-4999-4772-8b19-e3bb41e45422",
   "metadata": {},
   "outputs": [
    {
     "name": "stdout",
     "output_type": "stream",
     "text": [
      "1. Python\n",
      "2. R\n",
      "3. SQL\n",
      "4. Java\n",
      "5. Julia\n",
      "6. Ruby\n"
     ]
    }
   ],
   "source": [
    "languages = [\n",
    "    \"1. Python\",\n",
    "    \"2. R\",\n",
    "    \"3. SQL\",\n",
    "    \"4. Java\",\n",
    "    \"5. Julia\",\n",
    "    \"6. Ruby\"\n",
    "]\n",
    "\n",
    "for language in languages:\n",
    "    print(language)"
   ]
  },
  {
   "cell_type": "code",
   "execution_count": null,
   "id": "6a17cf36-963e-472c-9aec-4a82151aca1c",
   "metadata": {},
   "outputs": [],
   "source": []
  },
  {
   "cell_type": "markdown",
   "id": "d409cee0-9a9f-4910-8bcc-79ff3751bfb4",
   "metadata": {},
   "source": [
    "# **Objectives**:"
   ]
  },
  {
   "cell_type": "code",
   "execution_count": 52,
   "id": "de4bd991-725b-4039-b566-b53bc9afaafc",
   "metadata": {},
   "outputs": [
    {
     "name": "stdout",
     "output_type": "stream",
     "text": [
      "* Python\n",
      "* R\n",
      "* SQL\n",
      "* Java\n",
      "* PHP\n",
      "* Go\n"
     ]
    }
   ],
   "source": [
    "# List of popular languages for Data Science\n",
    "languages = [\n",
    "    \"* Python\",\n",
    "    \"* R\",\n",
    "    \"* SQL\",\n",
    "    \"* Java\",\n",
    "    \"* PHP\",\n",
    "    \"* Go\"\n",
    "]\n",
    "\n",
    "for language in languages:\n",
    "    print(language)"
   ]
  },
  {
   "cell_type": "markdown",
   "id": "f92eab08-e832-43e6-8e80-ac0326a008bc",
   "metadata": {},
   "source": [
    "# Some of the commonly used libraries used by Data Scientists include:"
   ]
  },
  {
   "cell_type": "code",
   "execution_count": 17,
   "id": "21be02f7-1ed6-48cd-877c-11e8b646c6c0",
   "metadata": {},
   "outputs": [
    {
     "name": "stdout",
     "output_type": "stream",
     "text": [
      "1. Pandas\n",
      "2. NumPy\n",
      "3. SciPy\n",
      "4. Matplotlib\n",
      "5. TensorFlow\n",
      "6. PyTorch\n"
     ]
    }
   ],
   "source": [
    "libraries = [\n",
    "    \"1. Pandas\",\n",
    "    \"2. NumPy\",\n",
    "    \"3. SciPy\",\n",
    "    \"4. Matplotlib\",\n",
    "    \"5. TensorFlow\",\n",
    "    \"6. PyTorch\"\n",
    "]\n",
    "\n",
    "for library in libraries:\n",
    "    print(library)"
   ]
  },
  {
   "cell_type": "code",
   "execution_count": null,
   "id": "5b0187dd-1d87-4e26-bd19-ea903bc1458b",
   "metadata": {},
   "outputs": [],
   "source": []
  },
  {
   "cell_type": "markdown",
   "id": "6c446ee1-8cf2-47f2-b497-648fa01b4138",
   "metadata": {},
   "source": [
    "# Data Science Tools "
   ]
  },
  {
   "cell_type": "code",
   "execution_count": null,
   "id": "4d6594bb-7724-4f8f-9c49-af88da08542c",
   "metadata": {},
   "outputs": [],
   "source": []
  },
  {
   "cell_type": "markdown",
   "id": "12904934-e710-44aa-aa86-7c0bc0a42a5e",
   "metadata": {},
   "source": [
    "\n",
    "| Data Science Tools |\n",
    "|--------------------|\n",
    "| MySQL              |\n",
    "| Kubeflow           |\n",
    "| GitHub             |"
   ]
  },
  {
   "cell_type": "markdown",
   "id": "4202ae7c-cb48-4456-8168-115c9a05c1fe",
   "metadata": {},
   "source": []
  },
  {
   "cell_type": "code",
   "execution_count": null,
   "id": "a2d79fb2-ebc9-4835-9be3-3c881c90f187",
   "metadata": {},
   "outputs": [],
   "source": []
  },
  {
   "cell_type": "code",
   "execution_count": null,
   "id": "5014a31b-97d0-4d42-bd4c-dc975213a427",
   "metadata": {},
   "outputs": [],
   "source": []
  },
  {
   "cell_type": "markdown",
   "id": "acd545de-ba05-4d7f-b76d-7ce61150fb5a",
   "metadata": {},
   "source": [
    "### H3: Below are a few examples of evaluating arithmetic expressions in Python"
   ]
  },
  {
   "cell_type": "code",
   "execution_count": 44,
   "id": "f27f7429-104c-4d17-bf82-631190156260",
   "metadata": {},
   "outputs": [
    {
     "data": {
      "text/plain": [
       "17"
      ]
     },
     "execution_count": 44,
     "metadata": {},
     "output_type": "execute_result"
    }
   ],
   "source": [
    "# This is a simple arithmetic expression to multiply and then add integers\n",
    "(3*4)+5\n"
   ]
  },
  {
   "cell_type": "code",
   "execution_count": null,
   "id": "0420a3df-e080-4235-a2b0-0b672c2620d9",
   "metadata": {},
   "outputs": [],
   "source": []
  },
  {
   "cell_type": "code",
   "execution_count": 48,
   "id": "4671feb2-9a1b-4617-b14e-95fef045501f",
   "metadata": {},
   "outputs": [
    {
     "name": "stdout",
     "output_type": "stream",
     "text": [
      "200 minutes = 3.3333333333333335 hours\n"
     ]
    }
   ],
   "source": [
    "# This will convert 200 minutes to hours by dividing by 60\n",
    "\n",
    "minutes = 200\n",
    "hours = minutes / 60\n",
    "\n",
    "# Display the result\n",
    "\n",
    "print(f\"{minutes} minutes = {hours} hours\")"
   ]
  },
  {
   "cell_type": "code",
   "execution_count": null,
   "id": "8d117639-b3dc-4105-bff3-3d59b1836252",
   "metadata": {},
   "outputs": [],
   "source": []
  },
  {
   "cell_type": "code",
   "execution_count": null,
   "id": "2feef310-4014-4869-8f82-85cf97f55e83",
   "metadata": {},
   "outputs": [],
   "source": []
  },
  {
   "cell_type": "code",
   "execution_count": null,
   "id": "dce33569-c560-4ca0-bf49-65c18882d9ca",
   "metadata": {},
   "outputs": [],
   "source": [
    "## H2: **Author**"
   ]
  },
  {
   "cell_type": "markdown",
   "id": "dc8b18e8-79c6-43b5-8060-daabbc303072",
   "metadata": {},
   "source": [
    "## H2: **Authur**\n",
    "\n",
    "Calvin Kwesi Gafrey"
   ]
  },
  {
   "cell_type": "code",
   "execution_count": null,
   "id": "89b946a1-420b-4047-857b-69945a53d1c9",
   "metadata": {},
   "outputs": [],
   "source": []
  }
 ],
 "metadata": {
  "kernelspec": {
   "display_name": "Python [conda env:base] *",
   "language": "python",
   "name": "conda-base-py"
  },
  "language_info": {
   "codemirror_mode": {
    "name": "ipython",
    "version": 3
   },
   "file_extension": ".py",
   "mimetype": "text/x-python",
   "name": "python",
   "nbconvert_exporter": "python",
   "pygments_lexer": "ipython3",
   "version": "3.12.7"
  }
 },
 "nbformat": 4,
 "nbformat_minor": 5
}
